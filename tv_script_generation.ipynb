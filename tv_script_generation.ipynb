{
 "cells": [
  {
   "cell_type": "markdown",
   "metadata": {},
   "source": [
    "# TV Script Generation\n",
    "\n",
    "This noteboook contains a text generator which works with a Recurrent Neural Network (RNN) based on LSTM units. The [Seinfeld Chronicles Dataset from Kaggle](https://www.kaggle.com/datasets/thec03u5/seinfeld-chronicles) is used, which contains the complete scripts from the [Seinfield TV Show](https://en.wikipedia.org/wiki/Seinfeld).\n",
    "\n",
    "The project is a modification of the [Character-level RNN](https://github.com/karpathy/char-rnn) [implemented by Andrej Karpathy](http://karpathy.github.io/2015/05/21/rnn-effectiveness/). I have used materials from the [Udacity Computer Vision Nanodegree](https://www.udacity.com/course/computer-vision-nanodegree--nd891), which can be obtained in their original form in [project-tv-script-generation](https://github.com/mxagar/deep-learning-v2-pytorch/tree/master/project-tv-script-generation).\n",
    "\n",
    "If you're interested in the topic, I recommend you to read [my blog post on it](https://mikelsagardia.io/blog/text-generation-rnn.html), where I introduce Recurrent Neural Network (RNN) based on LSTM units and their application to language modeling.\n",
    "\n",
    "Overview of contents:\n",
    "\n",
    "- [1. Get the Data](#1.-Get-the-Data)\n",
    "- [2. Explore the Data](#2.-Explore-the-Data)\n",
    "- [3. Implement Pre-processing Functions](#3.-Implement-Pre-processing-Functions)\n",
    "    - Lookup Table\n",
    "    - Tokenize Punctuation\n",
    "    - Pre-process all the data and save it\n",
    "    - Checkpoint\n",
    "- [4. Build the Data Loader](#4.-Build-the-Data-Loader)\n",
    "    - Check Access to GPU\n",
    "    - Input\n",
    "    - Batching\n",
    "    - Test your dataloader\n",
    "- [5. Build the Neural Network](#5.-Build-the-Neural-Network)\n",
    "    - Hints\n",
    "    - Define forward and backpropagation\n",
    "- [6. Neural Network Training](#6.-Neural-Network-Training)\n",
    "    - Train loop\n",
    "    - Hyperparameters\n",
    "    - Check the output\n",
    "    - Train\n",
    "    - Discussion: how did we decide the model hyperparameters?\n",
    "    - Checkpoint\n",
    "- [7. Generate TV Script](#7.-Generate-TV-Script)\n",
    "    - Generate Text Function\n",
    "    - Generate a New Script\n",
    "\n",
    "\n",
    "## 1. Get the Data\n",
    "\n",
    "The data is already provided for you in `./data/Seinfeld_Scripts.txt` and you're encouraged to open that file and look at the text. \n",
    ">* As a first step, we'll load in this data and look at some samples. \n",
    "* Then, you'll be tasked with defining and training an RNN to generate a new script!"
   ]
  },
  {
   "cell_type": "code",
   "execution_count": 1,
   "metadata": {},
   "outputs": [],
   "source": [
    "# load in data\n",
    "import helper\n",
    "data_dir = './data/Seinfeld_Scripts.txt'\n",
    "text = helper.load_data(data_dir)"
   ]
  },
  {
   "cell_type": "markdown",
   "metadata": {},
   "source": [
    "## 2. Explore the Data\n",
    "Play around with `view_line_range` to view different parts of the data. This will give you a sense of the data you'll be working with. You can see, for example, that it is all lowercase text, and each new line of dialogue is separated by a newline character `\\n`."
   ]
  },
  {
   "cell_type": "code",
   "execution_count": 2,
   "metadata": {},
   "outputs": [
    {
     "name": "stdout",
     "output_type": "stream",
     "text": [
      "Dataset Stats\n",
      "Roughly the number of unique words: 46367\n",
      "Number of lines: 109233\n",
      "Average number of words in each line: 5.544240293684143\n"
     ]
    }
   ],
   "source": [
    "import numpy as np\n",
    "\n",
    "view_line_range = (0, 10)\n",
    "\n",
    "print('Dataset Stats')\n",
    "# A temp dictionary is created with words as keys\n",
    "print('Roughly the number of unique words: {}'.format(len({word: None for word in text.split()})))\n",
    "\n",
    "lines = text.split('\\n')\n",
    "print('Number of lines: {}'.format(len(lines)))\n",
    "word_count_line = [len(line.split()) for line in lines]\n",
    "print('Average number of words in each line: {}'.format(np.average(word_count_line)))"
   ]
  },
  {
   "cell_type": "code",
   "execution_count": 3,
   "metadata": {},
   "outputs": [],
   "source": [
    "import seaborn as sns\n",
    "import matplotlib.pyplot as plt"
   ]
  },
  {
   "cell_type": "code",
   "execution_count": 4,
   "metadata": {},
   "outputs": [
    {
     "data": {
      "text/plain": [
       "Text(0.5,0,'Words in line')"
      ]
     },
     "execution_count": 4,
     "metadata": {},
     "output_type": "execute_result"
    },
    {
     "data": {
      "image/png": "[encoded data removed]",
      "text/plain": [
       "<matplotlib.figure.Figure at 0x7ff98faaae48>"
      ]
     },
     "metadata": {
      "needs_background": "light"
     },
     "output_type": "display_data"
    }
   ],
   "source": [
    "sns.distplot(word_count_line,bins=100)\n",
    "plt.xlabel('Words in line')"
   ]
  },
  {
   "cell_type": "code",
   "execution_count": 5,
   "metadata": {},
   "outputs": [
    {
     "name": "stdout",
     "output_type": "stream",
     "text": [
      "\n",
      "The lines 0 to 10:\n",
      "jerry: do you know what this is all about? do you know, why were here? to be out, this is out...and out is one of the single most enjoyable experiences of life. people...did you ever hear people talking about we should go out? this is what theyre talking about...this whole thing, were all out now, no one is home. not one person here is home, were all out! there are people trying to find us, they dont know where we are. (on an imaginary phone) did you ring?, i cant find him. where did he go? he didnt tell me where he was going. he must have gone out. you wanna go out you get ready, you pick out the clothes, right? you take the shower, you get all ready, get the cash, get your friends, the car, the spot, the reservation...then youre standing around, what do you do? you go we gotta be getting back. once youre out, you wanna get back! you wanna go to sleep, you wanna get up, you wanna go out again tomorrow, right? where ever you are in life, its my feeling, youve gotta go. \n",
      "\n",
      "jerry: (pointing at georges shirt) see, to me, that button is in the worst possible spot. the second button literally makes or breaks the shirt, look at it. its too high! its in no-mans-land. you look like you live with your mother. \n",
      "\n",
      "george: are you through? \n",
      "\n",
      "jerry: you do of course try on, when you buy? \n",
      "\n",
      "george: yes, it was purple, i liked it, i dont actually recall considering the buttons. \n",
      "\n"
     ]
    }
   ],
   "source": [
    "print()\n",
    "print('The lines {} to {}:'.format(*view_line_range))\n",
    "# Each person line in the dialogues is separated by a new line,\n",
    "# thus, we have effectively 2 lines per person-line.\n",
    "print('\\n'.join(text.split('\\n')[view_line_range[0]:view_line_range[1]]))"
   ]
  },
  {
   "cell_type": "markdown",
   "metadata": {},
   "source": [
    "## 3. Implement Pre-processing Functions\n",
    "The first thing to do to any dataset is pre-processing.  Implement the following pre-processing functions below:\n",
    "- Lookup Table\n",
    "- Tokenize Punctuation\n",
    "\n",
    "### Lookup Table\n",
    "To create a word embedding, you first need to transform the words to ids.  In this function, create two dictionaries:\n",
    "- Dictionary to go from the words to an id, we'll call `vocab_to_int`\n",
    "- Dictionary to go from the id to word, we'll call `int_to_vocab`\n",
    "\n",
    "Return these dictionaries in the following **tuple** `(vocab_to_int, int_to_vocab)`"
   ]
  },
  {
   "cell_type": "code",
   "execution_count": 6,
   "metadata": {},
   "outputs": [
    {
     "name": "stdout",
     "output_type": "stream",
     "text": [
      "Tests Passed\n"
     ]
    }
   ],
   "source": [
    "from collections import Counter\n",
    "import problem_unittests as tests\n",
    "\n",
    "def create_lookup_tables(text):\n",
    "    \"\"\"\n",
    "    Create lookup tables for vocabulary\n",
    "    :param text: The text of tv scripts split into words\n",
    "    :return: A tuple of dicts (vocab_to_int, int_to_vocab)\n",
    "    \"\"\"\n",
    "    # Build a dictionary that maps words to integers and vice versa\n",
    "    word_counts = Counter(text)\n",
    "    words_sorted = list(sorted(word_counts,key=word_counts.get,reverse=True))\n",
    "    offset = 0 # in case we want to reserve some integers\n",
    "    int_to_vocab = {(i+offset):words_sorted[i] for i in range(len(words_sorted))}\n",
    "    vocab_to_int = {words_sorted[i]:(i+offset) for i in range(len(words_sorted))}\n",
    "    \n",
    "    # Return tuple of dictionaries\n",
    "    return (vocab_to_int, int_to_vocab)\n",
    "\n",
    "tests.test_create_lookup_tables(create_lookup_tables)"
   ]
  },
  {
   "cell_type": "markdown",
   "metadata": {},
   "source": [
    "### Tokenize Punctuation\n",
    "We'll be splitting the script into a word array using spaces as delimiters.  However, punctuations like periods and exclamation marks can create multiple ids for the same word. For example, \"bye\" and \"bye!\" would generate two different word ids.\n",
    "\n",
    "Implement the function `token_lookup` to return a dict that will be used to tokenize symbols like \"!\" into \"||Exclamation_Mark||\".  Create a dictionary for the following symbols where the symbol is the key and value is the token:\n",
    "- Period ( **.** )\n",
    "- Comma ( **,** )\n",
    "- Quotation Mark ( **\"** )\n",
    "- Semicolon ( **;** )\n",
    "- Exclamation mark ( **!** )\n",
    "- Question mark ( **?** )\n",
    "- Left Parentheses ( **(** )\n",
    "- Right Parentheses ( **)** )\n",
    "- Dash ( **-** )\n",
    "- Return ( **\\n** )\n",
    "\n",
    "This dictionary will be used to tokenize the symbols and add the delimiter (space) around it.  This separates each symbols as its own word, making it easier for the neural network to predict the next word. Make sure you don't use a value that could be confused as a word; for example, instead of using the value \"dash\", try using something like \"||dash||\"."
   ]
  },
  {
   "cell_type": "code",
   "execution_count": 7,
   "metadata": {},
   "outputs": [
    {
     "name": "stdout",
     "output_type": "stream",
     "text": [
      "Tests Passed\n"
     ]
    }
   ],
   "source": [
    "def token_lookup():\n",
    "    \"\"\"\n",
    "    Generate a dict to turn punctuation into a token.\n",
    "    :return: Tokenized dictionary where the key is the punctuation and the value is the token\n",
    "    \"\"\"\n",
    "    punctuation_tokens = {}\n",
    "    punctuation_tokens['.'] = '||Period||'\n",
    "    punctuation_tokens[','] = '||Comma||'\n",
    "    punctuation_tokens['\"'] = '||Quotation_Mark||'\n",
    "    punctuation_tokens[';'] = '||Semicolon||'\n",
    "    punctuation_tokens['!'] = '||Exclamation_Mark||'\n",
    "    punctuation_tokens['?'] = '||Question_Mark||'\n",
    "    punctuation_tokens['('] = '||Left_Parentheses||'\n",
    "    punctuation_tokens[')'] = '||Right_Parentheses||'\n",
    "    punctuation_tokens['-'] = '||Dash||'\n",
    "    punctuation_tokens['\\n'] = '||Return||'\n",
    "    \n",
    "    return punctuation_tokens\n",
    "\n",
    "tests.test_tokenize(token_lookup)"
   ]
  },
  {
   "cell_type": "markdown",
   "metadata": {},
   "source": [
    "### Pre-process all the data and save it\n",
    "\n",
    "Running the code cell below will pre-process all the data and save it to file. You're encouraged to lok at the code for `preprocess_and_save_data` in the `helpers.py` file to see what it's doing in detail, but you do not need to change this code."
   ]
  },
  {
   "cell_type": "code",
   "execution_count": 8,
   "metadata": {},
   "outputs": [],
   "source": [
    "# pre-process training data\n",
    "helper.preprocess_and_save_data(data_dir, token_lookup, create_lookup_tables)"
   ]
  },
  {
   "cell_type": "markdown",
   "metadata": {},
   "source": [
    "### Check Point\n",
    "This is your first checkpoint. If you ever decide to come back to this notebook or have to restart the notebook, you can start from here. The preprocessed data has been saved to disk."
   ]
  },
  {
   "cell_type": "code",
   "execution_count": 9,
   "metadata": {},
   "outputs": [],
   "source": [
    "\"\"\"\n",
    "DON'T MODIFY ANYTHING IN THIS CELL\n",
    "\"\"\"\n",
    "import helper\n",
    "import problem_unittests as tests\n",
    "\n",
    "int_text, vocab_to_int, int_to_vocab, token_dict = helper.load_preprocess()"
   ]
  },
  {
   "cell_type": "markdown",
   "metadata": {},
   "source": [
    "## 4. Build the Data Loader\n",
    "\n",
    "In this section, you'll build the data loader, necessary to feed training samples to the RNN.\n",
    "\n",
    "### Check Access to GPU"
   ]
  },
  {
   "cell_type": "code",
   "execution_count": 10,
   "metadata": {},
   "outputs": [],
   "source": [
    "import torch\n",
    "\n",
    "# Check for a GPU\n",
    "train_on_gpu = torch.cuda.is_available()\n",
    "if not train_on_gpu:\n",
    "    print('No GPU found. Please use a GPU to train your neural network.')"
   ]
  },
  {
   "cell_type": "markdown",
   "metadata": {},
   "source": [
    "### Input\n",
    "Let's start with the preprocessed input data. We'll use [TensorDataset](http://pytorch.org/docs/master/data.html#torch.utils.data.TensorDataset) to provide a known format to our dataset; in combination with [DataLoader](http://pytorch.org/docs/master/data.html#torch.utils.data.DataLoader), it will handle batching, shuffling, and other dataset iteration functions.\n",
    "\n",
    "You can create data with TensorDataset by passing in feature and target tensors. Then create a DataLoader as usual.\n",
    "```\n",
    "data = TensorDataset(feature_tensors, target_tensors)\n",
    "data_loader = torch.utils.data.DataLoader(data, \n",
    "                                          batch_size=batch_size)\n",
    "```\n",
    "\n",
    "### Batching\n",
    "Implement the `batch_data` function to batch `words` data into chunks of size `batch_size` using the `TensorDataset` and `DataLoader` classes.\n",
    "\n",
    ">You can batch words using the DataLoader, but it will be up to you to create `feature_tensors` and `target_tensors` of the correct size and content for a given `sequence_length`.\n",
    "\n",
    "For example, say we have these as input:\n",
    "```\n",
    "words = [1, 2, 3, 4, 5, 6, 7]\n",
    "sequence_length = 4\n",
    "```\n",
    "\n",
    "Your first `feature_tensor` should contain the values:\n",
    "```\n",
    "[1, 2, 3, 4]\n",
    "```\n",
    "And the corresponding `target_tensor` should just be the next \"word\"/tokenized word value:\n",
    "```\n",
    "5\n",
    "```\n",
    "This should continue with the second `feature_tensor`, `target_tensor` being:\n",
    "```\n",
    "[2, 3, 4, 5]  # features\n",
    "6             # target\n",
    "```"
   ]
  },
  {
   "cell_type": "code",
   "execution_count": 11,
   "metadata": {},
   "outputs": [],
   "source": [
    "from torch.utils.data import TensorDataset, DataLoader\n",
    "\n",
    "def batch_data(words, sequence_length, batch_size):\n",
    "    \"\"\"\n",
    "    Batch the neural network data using DataLoader\n",
    "    :param words: The word ids of the TV scripts\n",
    "    :param sequence_length: The sequence length of each batch\n",
    "    :param batch_size: The size of each batch; the number of sequences in a batch\n",
    "    :return: DataLoader with batched data\n",
    "    \"\"\"\n",
    "    # Convert to numpy\n",
    "    words = np.array(words)\n",
    "    \n",
    "    # Initialize fetaures: each word gets a sequence with the items to its right\n",
    "    # but we need to stop before sequence_length to allow having complete sequences\n",
    "    features = np.zeros((words.shape[0]-sequence_length, sequence_length), dtype=int)\n",
    "    # Targets are all words except the ones of the initial sequence\n",
    "    targets = words[(sequence_length):]\n",
    "    \n",
    "    # Fill in the 2D array of feature words\n",
    "    for row in range(features.shape[0]):\n",
    "        features[row,:] = words[row:(row+sequence_length)]\n",
    "    \n",
    "    # Convert to Torch Tensors\n",
    "    feature_tensors = torch.from_numpy(features)\n",
    "    target_tensors = torch.from_numpy(targets)\n",
    "    \n",
    "    # Build dataloader\n",
    "    data = TensorDataset(feature_tensors, target_tensors)\n",
    "    data_loader = torch.utils.data.DataLoader(data,\n",
    "                                              shuffle=True,\n",
    "                                              batch_size=batch_size)\n",
    "    # Return a dataloader\n",
    "    return data_loader\n",
    "\n",
    "# there is no test for this function, but you are encouraged to create\n",
    "# print statements and tests of your own"
   ]
  },
  {
   "cell_type": "markdown",
   "metadata": {},
   "source": [
    "### Test your dataloader \n",
    "\n",
    "You'll have to modify this code to test a batching function, but it should look fairly similar.\n",
    "\n",
    "Below, we're generating some test text data and defining a dataloader using the function you defined, above. Then, we are getting some sample batch of inputs `sample_x` and targets `sample_y` from our dataloader.\n",
    "\n",
    "Your code should return something like the following (likely in a different order, if you shuffled your data):\n",
    "\n",
    "```\n",
    "torch.Size([10, 5])\n",
    "tensor([[ 28,  29,  30,  31,  32],\n",
    "        [ 21,  22,  23,  24,  25],\n",
    "        [ 17,  18,  19,  20,  21],\n",
    "        [ 34,  35,  36,  37,  38],\n",
    "        [ 11,  12,  13,  14,  15],\n",
    "        [ 23,  24,  25,  26,  27],\n",
    "        [  6,   7,   8,   9,  10],\n",
    "        [ 38,  39,  40,  41,  42],\n",
    "        [ 25,  26,  27,  28,  29],\n",
    "        [  7,   8,   9,  10,  11]])\n",
    "\n",
    "torch.Size([10])\n",
    "tensor([ 33,  26,  22,  39,  16,  28,  11,  43,  30,  12])\n",
    "```\n",
    "\n",
    "#### Sizes\n",
    "Your sample_x should be of size `(batch_size, sequence_length)` or (10, 5) in this case and sample_y should just have one dimension: batch_size (10). \n",
    "\n",
    "#### Values\n",
    "\n",
    "You should also notice that the targets, sample_y, are the *next* value in the ordered test_text data. So, for an input sequence `[ 28,  29,  30,  31,  32]` that ends with the value `32`, the corresponding output should be `33`."
   ]
  },
  {
   "cell_type": "code",
   "execution_count": 12,
   "metadata": {},
   "outputs": [
    {
     "name": "stdout",
     "output_type": "stream",
     "text": [
      "torch.Size([10, 5])\n",
      "tensor([[ 31,  32,  33,  34,  35],\n",
      "        [ 22,  23,  24,  25,  26],\n",
      "        [ 25,  26,  27,  28,  29],\n",
      "        [  6,   7,   8,   9,  10],\n",
      "        [  9,  10,  11,  12,  13],\n",
      "        [ 42,  43,  44,  45,  46],\n",
      "        [ 37,  38,  39,  40,  41],\n",
      "        [ 43,  44,  45,  46,  47],\n",
      "        [ 26,  27,  28,  29,  30],\n",
      "        [ 23,  24,  25,  26,  27]])\n",
      "\n",
      "torch.Size([10])\n",
      "tensor([ 36,  27,  30,  11,  14,  47,  42,  48,  31,  28])\n"
     ]
    }
   ],
   "source": [
    "# test dataloader\n",
    "\n",
    "test_text = range(50)\n",
    "t_loader = batch_data(test_text, sequence_length=5, batch_size=10)\n",
    "\n",
    "data_iter = iter(t_loader)\n",
    "sample_x, sample_y = data_iter.next()\n",
    "\n",
    "print(sample_x.shape)\n",
    "print(sample_x)\n",
    "print()\n",
    "print(sample_y.shape)\n",
    "print(sample_y)"
   ]
  },
  {
   "cell_type": "markdown",
   "metadata": {},
   "source": [
    "## 5. Build the Neural Network\n",
    "Implement an RNN using PyTorch's [Module class](http://pytorch.org/docs/master/nn.html#torch.nn.Module). You may choose to use a GRU or an LSTM. To complete the RNN, you'll have to implement the following functions for the class:\n",
    " - `__init__` - The initialize function. \n",
    " - `init_hidden` - The initialization function for an LSTM/GRU hidden state\n",
    " - `forward` - Forward propagation function.\n",
    " \n",
    "The initialize function should create the layers of the neural network and save them to the class. The forward propagation function will use these layers to run forward propagation and generate an output and a hidden state.\n",
    "\n",
    "**The output of this model should be the *last* batch of word scores** after a complete sequence has been processed. That is, for each input sequence of words, we only want to output the word scores for a single, most likely, next word.\n",
    "\n",
    "### Hints\n",
    "\n",
    "1. Make sure to stack the outputs of the lstm to pass to your fully-connected layer, you can do this with `lstm_output = lstm_output.contiguous().view(-1, self.hidden_dim)`\n",
    "2. You can get the last batch of word scores by shaping the output of the final, fully-connected layer like so:\n",
    "\n",
    "```\n",
    "# reshape into (batch_size, seq_length, output_size)\n",
    "output = output.view(batch_size, -1, self.output_size)\n",
    "# get last batch\n",
    "out = output[:, -1]\n",
    "```"
   ]
  },
  {
   "cell_type": "code",
   "execution_count": 13,
   "metadata": {},
   "outputs": [
    {
     "name": "stdout",
     "output_type": "stream",
     "text": [
      "Tests Passed\n"
     ]
    }
   ],
   "source": [
    "import torch.nn as nn\n",
    "\n",
    "class RNN(nn.Module):\n",
    "    \n",
    "    def __init__(self, vocab_size, output_size, embedding_dim, hidden_dim, n_layers, drop_p=0.5):\n",
    "        \"\"\"\n",
    "        Initialize the PyTorch RNN Module\n",
    "        :param vocab_size: The number of input dimensions of the neural network (the size of the vocabulary)\n",
    "        :param output_size: The number of output dimensions of the neural network\n",
    "        :param embedding_dim: The size of embeddings, should you choose to use them        \n",
    "        :param hidden_dim: The size of the hidden layer outputs\n",
    "        :param dropout: dropout to add in between LSTM/GRU layers\n",
    "        \"\"\"\n",
    "        super(RNN, self).__init__()\n",
    "        \n",
    "        # Set class variables\n",
    "        self.vocab_size = vocab_size\n",
    "        self.output_size = output_size\n",
    "        self.embedding_dim = embedding_dim\n",
    "        self.hidden_dim = hidden_dim\n",
    "        self.n_layers = n_layers\n",
    "        self.drop_p = drop_p\n",
    "        self.batch_size = 1\n",
    "        \n",
    "        # Define model layers\n",
    "        # - Embedding layer that turns words into a vector of a specified size\n",
    "        self.embedding = nn.Embedding(self.vocab_size, self.embedding_dim)\n",
    "        \n",
    "        # - LSTM\n",
    "        # batch_first=True:\n",
    "        # in: (batch_size, seq_length, in_features/embedding_dim)\n",
    "        # out: (batch_size, seq_length, out/hidden)\n",
    "        self.lstm = nn.LSTM(self.embedding_dim,\n",
    "                            self.hidden_dim,\n",
    "                            self.n_layers, \n",
    "                            dropout=self.drop_p,\n",
    "                            batch_first=True)\n",
    "        \n",
    "        # - Dropout layer\n",
    "        self.dropout = nn.Dropout(self.drop_p*0.2)\n",
    "        \n",
    "        # - Final, fully-connected output layer\n",
    "        self.fc = nn.Linear(self.hidden_dim, self.output_size)\n",
    "        \n",
    "        # - Log-Softmax / Softmax\n",
    "        #self.log_softmax = nn.LogSoftmax(dim=1)\n",
    "        self.softmax = nn.Softmax(dim=1)\n",
    "        \n",
    "    def forward(self, x, hidden):\n",
    "        \"\"\"\n",
    "        Forward propagation of the neural network\n",
    "        :param x: The input to the neural network\n",
    "        :param hidden: The hidden state        \n",
    "        :return: Two Tensors, the output of the neural network and the latest hidden state\n",
    "        \"\"\"\n",
    "        # Embedding\n",
    "        x = x.long() # int64\n",
    "        embed = self.embedding(x)\n",
    "        \n",
    "        # LSTM: Get the outputs and the new hidden state from the lstm\n",
    "        lstm_out, hidden = self.lstm(embed, hidden)\n",
    "        \n",
    "        # lstm_out is of size\n",
    "        # (batch_size, seq_length, out/hidden)\n",
    "        # We want the output of the last words in seq\n",
    "        lstm_out = lstm_out[:, -1, :] # getting the last time step output\n",
    "\n",
    "        # Stack up LSTM outputs using view\n",
    "        # before passing them to the MLP / Fully connected layer\n",
    "        # We may need to use contiguous to reshape the output\n",
    "        # .view does not copy or re-order the tensor elements,\n",
    "        # it's just a view; with .contiguous() we re-order them in memory, too!\n",
    "        # If we get a RunTimError related to view, try reshape or contiguous        \n",
    "        out = lstm_out.contiguous().view(-1, self.hidden_dim) # (batch_size, hidden_dim)\n",
    "        \n",
    "        # Pass through a dropout layer\n",
    "        out = self.dropout(out)\n",
    "        \n",
    "        # Put out through the fully-connected layer\n",
    "        out = self.fc(out)\n",
    "        \n",
    "        # Log-Softmax / SoftMax\n",
    "        #out = self.log_softmax(out) # a log-probability for each token in the vocabulary\n",
    "        #out = self.softmax(out) # a probability for each token in the vocabulary\n",
    "        \n",
    "        # Return the final output and the hidden state\n",
    "        return out, hidden    \n",
    "    \n",
    "    def init_hidden(self, batch_size):\n",
    "        '''\n",
    "        Initialize the hidden state of an LSTM/GRU\n",
    "        :param batch_size: The batch_size of the hidden state\n",
    "        :return: hidden state of dims (n_layers, batch_size, hidden_dim)\n",
    "        '''\n",
    "        # Initialize hidden state with zero weights, and move to GPU if available       \n",
    "        # Create two new tensors with sizes n_layers x batch_size x n_hidden,\n",
    "        # initialized to zero, for hidden state and cell state of LSTM\n",
    "        self.batch_size = batch_size\n",
    "        weight = next(self.parameters()).data\n",
    "\n",
    "        h = weight.new(self.n_layers, batch_size, self.hidden_dim).zero_()\n",
    "        c = weight.new(self.n_layers, batch_size, self.hidden_dim).zero_()\n",
    "        hidden = (h, c)\n",
    "        \n",
    "        if (train_on_gpu):\n",
    "            hidden = (h.cuda(), c.cuda())\n",
    "        \n",
    "        return hidden\n",
    "\n",
    "tests.test_rnn(RNN, train_on_gpu)"
   ]
  },
  {
   "cell_type": "markdown",
   "metadata": {},
   "source": [
    "### Define forward and backpropagation\n",
    "\n",
    "Use the RNN class you implemented to apply forward and back propagation. This function will be called, iteratively, in the training loop as follows:\n",
    "```\n",
    "loss = forward_back_prop(decoder, decoder_optimizer, criterion, inp, target)\n",
    "```\n",
    "\n",
    "And it should return the average loss over a batch and the hidden state returned by a call to `RNN(inp, hidden)`. Recall that you can get this loss by computing it, as usual, and calling `loss.item()`.\n",
    "\n",
    "**If a GPU is available, you should move your data to that GPU device, here.**"
   ]
  },
  {
   "cell_type": "code",
   "execution_count": 14,
   "metadata": {},
   "outputs": [
    {
     "name": "stdout",
     "output_type": "stream",
     "text": [
      "Tests Passed\n"
     ]
    }
   ],
   "source": [
    "def forward_back_prop(net, optimizer, criterion, inputs, labels, hidden):\n",
    "    \"\"\"\n",
    "    Forward and backward propagation on the neural network\n",
    "    :param net: The PyTorch Module that holds the neural network\n",
    "    :param optimizer: The PyTorch optimizer for the neural network\n",
    "    :param criterion: The PyTorch loss function\n",
    "    :param inputs: A batch of input to the neural network\n",
    "    :param labels: The target output for the batch of input\n",
    "    :return: The loss and the latest hidden state Tensor\n",
    "    \"\"\"\n",
    "    # move data to GPU, if available\n",
    "    if(train_on_gpu):\n",
    "        net.cuda()\n",
    "        inputs, labels = inputs.cuda(), labels.cuda()\n",
    "    \n",
    "    # perform backpropagation and optimization\n",
    "\n",
    "    # Creating new variables for the hidden state, otherwise\n",
    "    # we'd backprop through the entire training history\n",
    "    hidden = tuple([each.data for each in hidden])\n",
    "\n",
    "    # zero accumulated gradients\n",
    "    net.zero_grad()\n",
    "\n",
    "    # get the output from the model\n",
    "    output, h = net(inputs, hidden)\n",
    "\n",
    "    # calculate the loss and perform backprop\n",
    "    # .squeeze(): remove empty dimensions\n",
    "    # .float(): force 0s and 1s to be floats\n",
    "    loss = criterion(output, labels.long())\n",
    "    loss.backward()\n",
    "    # `clip_grad_norm` helps prevent the exploding gradient problem in RNNs / LSTMs.\n",
    "    clip = 5\n",
    "    nn.utils.clip_grad_norm_(net.parameters(), clip)\n",
    "    optimizer.step()\n",
    "\n",
    "    # return the loss over a batch and the hidden state produced by our model\n",
    "    return loss.cpu().item(), h\n",
    "\n",
    "# Note that these tests aren't completely extensive.\n",
    "# they are here to act as general checks on the expected outputs of your functions\n",
    "tests.test_forward_back_prop(RNN, forward_back_prop, train_on_gpu)"
   ]
  },
  {
   "cell_type": "markdown",
   "metadata": {},
   "source": [
    "## 6. Neural Network Training\n",
    "\n",
    "With the structure of the network complete and data ready to be fed in the neural network, it's time to train it.\n",
    "\n",
    "### Train Loop\n",
    "\n",
    "The training loop is implemented for you in the `train_rnn` function. This function will train the network over all the batches for the number of epochs given. The model progress will be shown every number of batches. This number is set with the `show_every_n_batches` parameter. You'll set this parameter along with other parameters in the next section."
   ]
  },
  {
   "cell_type": "code",
   "execution_count": 15,
   "metadata": {},
   "outputs": [],
   "source": [
    "def train_rnn(rnn, batch_size, optimizer, criterion, n_epochs, show_every_n_batches=100):\n",
    "    batch_losses = []\n",
    "    \n",
    "    rnn.train()\n",
    "\n",
    "    print(\"Training for %d epoch(s)...\" % n_epochs)\n",
    "    for epoch_i in range(1, n_epochs + 1):\n",
    "        \n",
    "        # initialize hidden state\n",
    "        hidden = rnn.init_hidden(batch_size)\n",
    "        \n",
    "        for batch_i, (inputs, labels) in enumerate(train_loader, 1):\n",
    "            \n",
    "            # make sure you iterate over completely full batches, only\n",
    "            n_batches = len(train_loader.dataset)//batch_size\n",
    "            if(batch_i > n_batches):\n",
    "                break\n",
    "            \n",
    "            # forward, back prop\n",
    "            loss, hidden = forward_back_prop(rnn, optimizer, criterion, inputs, labels, hidden)          \n",
    "            # record loss\n",
    "            batch_losses.append(loss)\n",
    "\n",
    "            # printing loss stats\n",
    "            if batch_i % show_every_n_batches == 0:\n",
    "                print('Epoch: {:>4}/{:<4}  Loss: {}\\n'.format(\n",
    "                    epoch_i, n_epochs, np.average(batch_losses)))\n",
    "                batch_losses = []\n",
    "\n",
    "    # returns a trained rnn\n",
    "    return rnn"
   ]
  },
  {
   "cell_type": "code",
   "execution_count": 16,
   "metadata": {},
   "outputs": [],
   "source": [
    "\"\"\"\n",
    "Another training function, but this time with validation\n",
    "\"\"\"\n",
    "# I modified the training function to include validation\n",
    "# The reason is that I believe the model has many hyperparameters for the small dataset\n",
    "# Thus, I need to keep track of the validation loss to avoid overfitting\n",
    "\n",
    "def train_rnn_valid(rnn, batch_size, optimizer, criterion, n_epochs,\n",
    "                  show_every_n_batches=100, validate=True):\n",
    "\n",
    "    min_batch_valid_loss = np.Inf\n",
    "    \n",
    "    print(\"Training for %d epoch(s)...\" % n_epochs)\n",
    "    for epoch_i in range(1, n_epochs + 1):\n",
    "        \n",
    "        batch_train_losses = []\n",
    "        rnn.train()\n",
    "        \n",
    "        # initialize hidden state\n",
    "        hidden = rnn.init_hidden(batch_size)\n",
    "        \n",
    "        for batch_i, (inputs, labels) in enumerate(train_loader, 1):\n",
    "            \n",
    "            # make sure you iterate over completely full batches, only\n",
    "            n_batches = len(train_loader.dataset)//batch_size\n",
    "            if(batch_i > n_batches):\n",
    "                break\n",
    "            \n",
    "            # forward, back prop\n",
    "            loss, hidden = forward_back_prop(rnn, optimizer, criterion, inputs, labels, hidden)          \n",
    "            # record loss\n",
    "            #batch_losses.append(loss)\n",
    "            batch_train_losses.append(loss)\n",
    "\n",
    "            # printing loss stats\n",
    "            if batch_i % show_every_n_batches == 0:\n",
    "                print('\\nEpoch: {:>4}/{:<4}  Avg. Train Batch Loss: {:.5f}'.format(\n",
    "                    epoch_i, n_epochs, np.average(batch_train_losses)))\n",
    "                if not validate:\n",
    "                    batch_train_losses = []\n",
    "                    \n",
    "        if validate:\n",
    "            rnn.eval()\n",
    "            batch_valid_losses = []\n",
    "            hidden = rnn.init_hidden(batch_size)\n",
    "            for batch_i, (inputs, labels) in enumerate(valid_loader, 1):\n",
    "                n_batches = len(valid_loader.dataset)//batch_size\n",
    "                if (batch_i > n_batches):\n",
    "                    break\n",
    "\n",
    "                if (train_on_gpu):\n",
    "                    inputs, labels = inputs.cuda(), labels.cuda()\n",
    "\n",
    "                with torch.no_grad():\n",
    "                    hidden = tuple([each.data for each in hidden])\n",
    "                    output, hidden = rnn(inputs, hidden)\n",
    "                    loss = criterion(output, labels.long())\n",
    "\n",
    "                batch_valid_losses.append(loss.cpu().item())\n",
    "\n",
    "            print('\\nEpoch: {:>4}/{:<4}  Train Loss: {:.5f}  Valid Loss: {:.5f}'.format(\n",
    "                epoch_i, n_epochs, np.average(batch_train_losses), np.average(batch_valid_losses)))\n",
    "\n",
    "            # Save if minimum loss in validation so far\n",
    "            avg_valid_loss = np.average(batch_valid_losses)\n",
    "            if avg_valid_loss < min_batch_valid_loss:\n",
    "                print('Saving model...')\n",
    "                helper.save_model('./models/trained_rnn_best', rnn)\n",
    "                min_batch_valid_loss = avg_valid_loss\n",
    "                \n",
    "    # returns a trained rnn\n",
    "    return rnn"
   ]
  },
  {
   "cell_type": "markdown",
   "metadata": {},
   "source": [
    "### Hyperparameters\n",
    "\n",
    "Set and train the neural network with the following parameters:\n",
    "- Set `sequence_length` to the length of a sequence.\n",
    "- Set `batch_size` to the batch size.\n",
    "- Set `num_epochs` to the number of epochs to train for.\n",
    "- Set `learning_rate` to the learning rate for an Adam optimizer.\n",
    "- Set `vocab_size` to the number of unique tokens in our vocabulary.\n",
    "- Set `output_size` to the desired size of the output.\n",
    "- Set `embedding_dim` to the embedding dimension; smaller than the vocab_size.\n",
    "- Set `hidden_dim` to the hidden dimension of your RNN.\n",
    "- Set `n_layers` to the number of layers/cells in your RNN.\n",
    "- Set `show_every_n_batches` to the number of batches at which the neural network should print progress.\n",
    "\n",
    "If the network isn't getting the desired results, tweak these parameters and/or the layers in the `RNN` class."
   ]
  },
  {
   "cell_type": "markdown",
   "metadata": {},
   "source": [
    "#### Data Parameters"
   ]
  },
  {
   "cell_type": "code",
   "execution_count": 17,
   "metadata": {},
   "outputs": [
    {
     "name": "stdout",
     "output_type": "stream",
     "text": [
      "802899\n"
     ]
    }
   ],
   "source": [
    "# Data params\n",
    "# Sequence Length\n",
    "sequence_length = 10 # 16\n",
    "# Batch Size\n",
    "batch_size = 128\n",
    "\n",
    "# train/validation split\n",
    "validation_ratio = 0.1\n",
    "num_total_tokens = len(int_text)\n",
    "num_valid_tokens = int(num_total_tokens*validation_ratio)\n",
    "last_train_token = num_total_tokens-num_valid_tokens\n",
    "print(last_train_token)\n",
    "\n",
    "# data loader: train\n",
    "#train_loader = batch_data(int_text, sequence_length, batch_size)\n",
    "train_loader = batch_data(int_text[:last_train_token], sequence_length, batch_size)\n",
    "\n",
    "# data loader: validation\n",
    "valid_loader = batch_data(int_text[last_train_token:], sequence_length, batch_size)"
   ]
  },
  {
   "cell_type": "markdown",
   "metadata": {},
   "source": [
    "#### Check the DataLoader"
   ]
  },
  {
   "cell_type": "code",
   "execution_count": 18,
   "metadata": {},
   "outputs": [
    {
     "name": "stdout",
     "output_type": "stream",
     "text": [
      "Number of batches: 6272\n"
     ]
    }
   ],
   "source": [
    "n_batches = len(train_loader.dataset)//batch_size\n",
    "print(f'Number of batches: {n_batches}')"
   ]
  },
  {
   "cell_type": "code",
   "execution_count": 19,
   "metadata": {},
   "outputs": [
    {
     "name": "stdout",
     "output_type": "stream",
     "text": [
      "torch.Size([128, 10])\n",
      "torch.Size([128])\n",
      "tensor([[   194,      2,      5,  ...,     20,     33,    290],\n",
      "        [   701,    134,      1,  ...,      9,    521,      1],\n",
      "        [    16,      5,   1076,  ...,   1064,     82,   3221],\n",
      "        ...,\n",
      "        [    10,    152,     25,  ...,     37,      5,     27],\n",
      "        [     0,      7,      5,  ...,      1,      5,   7737],\n",
      "        [    12,  19327,    308,  ...,   8675,      1,    455]])\n",
      "tensor([     1,    198,      1,      1,     39,      2,     57,      1,\n",
      "             4,      1,    374,     22,      0,      9,    370,     13,\n",
      "           187,     12,      1,     42,     22,   1442,     15,      0,\n",
      "           173,   6136,     76,     53,     41,     69,      9,    103,\n",
      "            11,      0,      2,    125,    319,      1,     42,    517,\n",
      "             1,      3,      2,     77,      4,    637,      2,    824,\n",
      "            55,     13,      0,     19,      1,     17,    101,    475,\n",
      "         17847,    188,      1,      0,      2,     91,      4,     79,\n",
      "            44,     52,    414,   2633,      6,      2,    181,  19566,\n",
      "             0,      8,   5352,     38,      0,    422,     28,     76,\n",
      "            51,    175,     95,      5,      2,     10,     25,      1,\n",
      "          9416,     23,    106,    335,      3,      1,      1,      5,\n",
      "             7,      6,      0,      8,    329,      9,      2,     49,\n",
      "           154,     25,      1,      6,     33,    262,      1,    418,\n",
      "           208,     21,   2532,      0,   2337,  15835,      2,   1414,\n",
      "            57,    327,      6,   1460,    124,     66,     69,      9])\n"
     ]
    }
   ],
   "source": [
    "data_iter = iter(train_loader)\n",
    "sample_x, sample_y = data_iter.next()\n",
    "print(sample_x.size())\n",
    "print(sample_y.size())\n",
    "print(sample_x)\n",
    "print(sample_y)"
   ]
  },
  {
   "cell_type": "markdown",
   "metadata": {},
   "source": [
    "#### Check int <-> token"
   ]
  },
  {
   "cell_type": "code",
   "execution_count": 20,
   "metadata": {},
   "outputs": [
    {
     "name": "stdout",
     "output_type": "stream",
     "text": [
      "['||return||', '||period||', '||comma||', '||question_mark||', 'you', 'i', 'the', 'jerry:', 'to', 'a']\n"
     ]
    }
   ],
   "source": [
    "common_tokens = [int_to_vocab[i] for i in range(10)]\n",
    "#vocab_to_int\n",
    "print(common_tokens)"
   ]
  },
  {
   "cell_type": "code",
   "execution_count": 21,
   "metadata": {},
   "outputs": [
    {
     "data": {
      "text/plain": [
       "21388"
      ]
     },
     "execution_count": 21,
     "metadata": {},
     "output_type": "execute_result"
    }
   ],
   "source": [
    "# Number of unique tokens\n",
    "len(vocab_to_int.keys())"
   ]
  },
  {
   "cell_type": "markdown",
   "metadata": {},
   "source": [
    "#### Training Parameters"
   ]
  },
  {
   "cell_type": "code",
   "execution_count": 22,
   "metadata": {},
   "outputs": [],
   "source": [
    "# Training parameters\n",
    "# Number of Epochs\n",
    "num_epochs = 10\n",
    "# Learning Rate\n",
    "learning_rate = 0.001 # 0.003\n",
    "\n",
    "# Model parameters\n",
    "# Vocab size\n",
    "vocab_size = len(vocab_to_int.keys())\n",
    "# Output size\n",
    "output_size = vocab_size\n",
    "# Embedding Dimension\n",
    "embedding_dim = 300\n",
    "# Hidden Dimension\n",
    "hidden_dim = 256\n",
    "# Number of RNN Layers\n",
    "n_layers = 2\n",
    "\n",
    "# Show stats for every n number of batches\n",
    "show_every_n_batches = 2000"
   ]
  },
  {
   "cell_type": "markdown",
   "metadata": {},
   "source": [
    "#### Check Model Parameters"
   ]
  },
  {
   "cell_type": "code",
   "execution_count": 23,
   "metadata": {},
   "outputs": [
    {
     "name": "stdout",
     "output_type": "stream",
     "text": [
      "RNN(\n",
      "  (embedding): Embedding(21388, 300)\n",
      "  (lstm): LSTM(300, 256, num_layers=2, batch_first=True, dropout=0.5)\n",
      "  (dropout): Dropout(p=0.1)\n",
      "  (fc): Linear(in_features=256, out_features=21388, bias=True)\n",
      "  (softmax): Softmax()\n",
      ")\n",
      "Number of parameters: 13010844\n",
      "Number of words in text 892110\n"
     ]
    }
   ],
   "source": [
    "# The number of model parameters should not be much larger\n",
    "# than the number of sequence items (words) in the dataset, otherwise we overfit.\n",
    "# Best approach: define a model that is larger and apply droput to prevent overfitting;\n",
    "# also, check validation error during training.\n",
    "rnn = RNN(vocab_size, output_size, embedding_dim, hidden_dim, n_layers, drop_p=0.5)\n",
    "print(rnn)\n",
    "model_parameters = filter(lambda p: p.requires_grad, rnn.parameters())\n",
    "params = sum([np.prod(p.size()) for p in model_parameters])\n",
    "print(f'Number of parameters: {params}')\n",
    "print(f'Number of words in text {len(int_text)}')"
   ]
  },
  {
   "cell_type": "markdown",
   "metadata": {},
   "source": [
    "### Check the Output"
   ]
  },
  {
   "cell_type": "code",
   "execution_count": 24,
   "metadata": {},
   "outputs": [
    {
     "name": "stdout",
     "output_type": "stream",
     "text": [
      "Loss: 9.990155220031738\n",
      "Size of the output: torch.Size([128, 21388])\n",
      "Size of the labels: torch.Size([128])\n",
      "Size of predicted word ints: torch.Size([128])\n",
      "Predicted word-ints: tensor([ 13429,  10210,  12155,  10210,  19766,  17898,   8408,  12247,\n",
      "         19640,  10210,  15297,   2466,  12612,  17678,   7497,   1073,\n",
      "         14297,   8408,  16644,  10210,   3435,  17980,  18546,  20334,\n",
      "         19640,  15155,   1567,  14297,  18253,  11073,  11957,  18985,\n",
      "         14297,  18253,   8408,  17980,   5383,  15155,  15201,   1073,\n",
      "          8392,   8408,  19024,   1088,   5809,  10210,   7614,   7105,\n",
      "         20729,  14297,   8408,  14297,  12155,   4175,  12155,  17980,\n",
      "         13481,  18253,  12593,   8408,  10764,  12155,   8408,   7614,\n",
      "          5431,   1931,   1073,   2267,   3008,   8292,  13239,  12593,\n",
      "          8408,  14681,   8408,  19664,  17314,  18985,  12593,  18509,\n",
      "         17980,  19086,  18253,  12612,   7614,  20031,   8408,  13429,\n",
      "         10210,  15156,   7392,  17304,   7497,  21354,  17678,   3572,\n",
      "         10210,   8408,  17980,   7614,  21354,   6571,  12593,   3435,\n",
      "          2466,   8426,  10764,  10960,   3521,   8408,   3435,  18573,\n",
      "         17761,  18803,   5431,  15155,  21354,  14297,   2682,   5431,\n",
      "          5809,   4985,  18985,  21354,  12155,   6200,  10764,   7614])\n"
     ]
    }
   ],
   "source": [
    "rnn.eval()\n",
    "criterion = nn.CrossEntropyLoss()\n",
    "\n",
    "with torch.no_grad():\n",
    "\n",
    "    hidden = rnn.init_hidden(batch_size)\n",
    "    \n",
    "    if (train_on_gpu):\n",
    "        rnn.cuda()\n",
    "        sample_x, sample_y = sample_x.cuda(), sample_y.cuda()\n",
    "\n",
    "    hidden = tuple([each.data for each in hidden])\n",
    "\n",
    "    output, h = rnn(sample_x, hidden)\n",
    "\n",
    "    loss = criterion(output, sample_y.long())\n",
    "\n",
    "    if (train_on_gpu):\n",
    "        output = output.cpu()\n",
    "        loss = loss.cpu()\n",
    "    \n",
    "    word_ints = output.argmax(dim=1)\n",
    "    \n",
    "    print(f'Loss: {loss.item()}')\n",
    "    print(f'Size of the output: {output.size()}') # batch_size x vocabulary size\n",
    "    print(f'Size of the labels: {sample_y.size()}') # batch_size x vocabulary size\n",
    "    print(f'Size of predicted word ints: {word_ints.size()}')\n",
    "    print(f'Predicted word-ints: {word_ints}')"
   ]
  },
  {
   "cell_type": "markdown",
   "metadata": {},
   "source": [
    "### Train\n",
    "In the next cell, you'll train the neural network on the pre-processed data.  If you have a hard time getting a good loss, you may consider changing your hyperparameters. In general, you may get better results with larger hidden and n_layer dimensions, but larger models take a longer time to train. \n",
    "> **You should aim for a loss less than 3.5.** \n",
    "\n",
    "You should also experiment with different sequence lengths, which determine the size of the long range dependencies that a model can learn."
   ]
  },
  {
   "cell_type": "code",
   "execution_count": 25,
   "metadata": {},
   "outputs": [
    {
     "name": "stdout",
     "output_type": "stream",
     "text": [
      "Training for 10 epoch(s)...\n",
      "\n",
      "Epoch:    1/10    Avg. Train Batch Loss: 4.89623\n",
      "\n",
      "Epoch:    1/10    Avg. Train Batch Loss: 4.63475\n",
      "\n",
      "Epoch:    1/10    Avg. Train Batch Loss: 4.50194\n",
      "\n",
      "Epoch:    1/10    Train Loss: 4.48887  Valid Loss: 4.39420\n",
      "Saving model...\n"
     ]
    },
    {
     "name": "stderr",
     "output_type": "stream",
     "text": [
      "/opt/conda/lib/python3.6/site-packages/torch/serialization.py:193: UserWarning: Couldn't retrieve source code for container of type RNN. It won't be checked for correctness upon loading.\n",
      "  \"type \" + obj.__name__ + \". It won't be checked \"\n"
     ]
    },
    {
     "name": "stdout",
     "output_type": "stream",
     "text": [
      "\n",
      "Epoch:    2/10    Avg. Train Batch Loss: 4.03707\n",
      "\n",
      "Epoch:    2/10    Avg. Train Batch Loss: 4.02049\n",
      "\n",
      "Epoch:    2/10    Avg. Train Batch Loss: 4.00022\n",
      "\n",
      "Epoch:    2/10    Train Loss: 3.99966  Valid Loss: 4.36515\n",
      "Saving model...\n",
      "\n",
      "Epoch:    3/10    Avg. Train Batch Loss: 3.82523\n",
      "\n",
      "Epoch:    3/10    Avg. Train Batch Loss: 3.82382\n",
      "\n",
      "Epoch:    3/10    Avg. Train Batch Loss: 3.82487\n",
      "\n",
      "Epoch:    3/10    Train Loss: 3.82640  Valid Loss: 4.39000\n",
      "\n",
      "Epoch:    4/10    Avg. Train Batch Loss: 3.69228\n",
      "\n",
      "Epoch:    4/10    Avg. Train Batch Loss: 3.70541\n",
      "\n",
      "Epoch:    4/10    Avg. Train Batch Loss: 3.71405\n",
      "\n",
      "Epoch:    4/10    Train Loss: 3.71598  Valid Loss: 4.42017\n",
      "\n",
      "Epoch:    5/10    Avg. Train Batch Loss: 3.60675\n",
      "\n",
      "Epoch:    5/10    Avg. Train Batch Loss: 3.62417\n",
      "\n",
      "Epoch:    5/10    Avg. Train Batch Loss: 3.63729\n",
      "\n",
      "Epoch:    5/10    Train Loss: 3.63963  Valid Loss: 4.44515\n",
      "\n",
      "Epoch:    6/10    Avg. Train Batch Loss: 3.57874\n",
      "\n",
      "Epoch:    6/10    Train Loss: 3.58099  Valid Loss: 4.48264\n",
      "\n",
      "Epoch:    7/10    Avg. Train Batch Loss: 3.48885\n",
      "\n",
      "Epoch:    7/10    Avg. Train Batch Loss: 3.51291\n",
      "\n",
      "Epoch:    7/10    Avg. Train Batch Loss: 3.53159\n",
      "\n",
      "Epoch:    7/10    Train Loss: 3.53359  Valid Loss: 4.50688\n",
      "\n",
      "Epoch:    8/10    Avg. Train Batch Loss: 3.44649\n",
      "\n",
      "Epoch:    8/10    Avg. Train Batch Loss: 3.46987\n",
      "\n",
      "Epoch:    8/10    Avg. Train Batch Loss: 3.48859\n",
      "\n",
      "Epoch:    8/10    Train Loss: 3.49133  Valid Loss: 4.53788\n",
      "\n",
      "Epoch:    9/10    Avg. Train Batch Loss: 3.41630\n",
      "\n",
      "Epoch:    9/10    Avg. Train Batch Loss: 3.43784\n",
      "\n",
      "Epoch:    9/10    Avg. Train Batch Loss: 3.45390\n",
      "\n",
      "Epoch:    9/10    Train Loss: 3.45705  Valid Loss: 4.56590\n",
      "\n",
      "Epoch:   10/10    Avg. Train Batch Loss: 3.38316\n",
      "\n",
      "Epoch:   10/10    Avg. Train Batch Loss: 3.40402\n",
      "\n",
      "Epoch:   10/10    Avg. Train Batch Loss: 3.42343\n",
      "\n",
      "Epoch:   10/10    Train Loss: 3.42706  Valid Loss: 4.58604\n",
      "Model Trained and Saved\n"
     ]
    }
   ],
   "source": [
    "#from workspace_utils import active_session\n",
    "    \n",
    "# create model and move to gpu if available\n",
    "rnn = RNN(vocab_size, output_size, embedding_dim, hidden_dim, n_layers, drop_p=0.5)\n",
    "if train_on_gpu:\n",
    "    rnn.cuda()\n",
    "\n",
    "# defining loss and optimization functions for training\n",
    "optimizer = torch.optim.Adam(rnn.parameters(), lr=learning_rate)\n",
    "criterion = nn.CrossEntropyLoss()\n",
    "#criterion = nn.NLLLoss()\n",
    "\n",
    "# training the model\n",
    "#with active_session():\n",
    "#trained_rnn = train_rnn(rnn, batch_size, optimizer, criterion, num_epochs, show_every_n_batches)\n",
    "trained_rnn = train_rnn_valid(rnn, batch_size, optimizer, criterion, num_epochs, show_every_n_batches)\n",
    "\n",
    "# saving the trained model\n",
    "helper.save_model('./models/trained_rnn_last', trained_rnn)\n",
    "print('Model Trained and Saved')"
   ]
  },
  {
   "cell_type": "markdown",
   "metadata": {},
   "source": [
    "### Question: How did you decide on your model hyperparameters? \n",
    "For example, did you try different sequence_lengths and find that one size made the model converge faster? What about your hidden_dim and n_layers; how did you decide on those?"
   ]
  },
  {
   "cell_type": "markdown",
   "metadata": {},
   "source": [
    "**Answer:** \n",
    "\n",
    "- `sequence_length`: I have tried values between `10-20` and I didn't experience large changes.\n",
    "- `batch_size`: I have set the batch size large enough to take advantage of parallel computations, but not too big that we fall in local optima.\n",
    "- `num_epochs`: 10 epochs have been enough to go below the required loss of `3.5`.\n",
    "- `learning_rate`: the standard `0.001` has worked.\n",
    "- `vocab_size`: the number of unique tokens in the vocabulary.\n",
    "- `output_size`: the same as `vocab_size`, since we're trying to predict one-hot encoded tokens from the vocabulary.\n",
    "- `embedding_dim`: I used the standard values between `200-300`.\n",
    "- `hidden_dim`: after looking at similar examples (e.g., the Karpathy's character-level RNN), I have used a power of 2 around 200: `256`.\n",
    "- `n_layers`: the recommended values are between `1-3`; I have used the middle point, which seems to work. More layers yield more complex models (with more paramaters), which are expensive to train and can overfit.\n",
    "\n",
    "I have implemented a new extended training function which computes the loss with a validation split every epoch. Thanks to that function, we can see that the model overfits the train split. Some notes around that:\n",
    "\n",
    "- To avoid overfitting, I added a dropout layer between the LSTM and the fully connected linear layer; however, the train loss increases considerably with large dropout probabilities. The current dropout value (0.1) allows low train losses, but the validation loss still increases with the number of epochs (so we are still overfitting).\n",
    "- One could say that the train/validation split is not optimal: the vaidation split consists of the last 10% of the dataset, which corresponds to the last episodes of the TV show; that part is not necessarily representative of the series, i.e., the rest 90%.\n",
    "- In the case of text generation, maybe we want to overfit: we want to generate text that resembles the training dataset."
   ]
  },
  {
   "cell_type": "markdown",
   "metadata": {},
   "source": [
    "### Checkpoint\n",
    "\n",
    "After running the above training cell, your model will be saved by name, `trained_rnn`, and if you save your notebook progress, **you can pause here and come back to this code at another time**. You can resume your progress by running the next cell, which will load in our word:id dictionaries _and_ load in your saved model by name!"
   ]
  },
  {
   "cell_type": "code",
   "execution_count": 26,
   "metadata": {},
   "outputs": [],
   "source": [
    "import torch\n",
    "import helper\n",
    "import problem_unittests as tests\n",
    "\n",
    "_, vocab_to_int, int_to_vocab, token_dict = helper.load_preprocess()\n",
    "trained_rnn = helper.load_model('./models/trained_rnn_last')\n",
    "#trained_rnn = helper.load_model('./models/trained_rnn_best')"
   ]
  },
  {
   "cell_type": "markdown",
   "metadata": {},
   "source": [
    "## 7. Generate TV Script\n",
    "With the network trained and saved, you'll use it to generate a new, \"fake\" Seinfeld TV script in this section.\n",
    "\n",
    "### Generate Text Function\n",
    "To generate the text, the network needs to start with a single word and repeat its predictions until it reaches a set length. You'll be using the `generate` function to do this. It takes a word id to start with, `prime_id`, and generates a set length of text, `predict_len`. Also note that it uses topk sampling to introduce some randomness in choosing the most likely next word, given an output set of word scores!"
   ]
  },
  {
   "cell_type": "code",
   "execution_count": 30,
   "metadata": {},
   "outputs": [],
   "source": [
    "import torch.nn.functional as F\n",
    "\n",
    "def generate(rnn, prime_id, int_to_vocab, token_dict, pad_value, predict_len=100):\n",
    "    \"\"\"\n",
    "    Generate text using the neural network\n",
    "    :param decoder: The PyTorch Module that holds the trained neural network\n",
    "    :param prime_id: The word id to start the first prediction\n",
    "    :param int_to_vocab: Dict of word id keys to word values\n",
    "    :param token_dict: Dict of puncuation tokens keys to puncuation values\n",
    "    :param pad_value: The value used to pad a sequence\n",
    "    :param predict_len: The length of text to generate\n",
    "    :return: The generated text\n",
    "    \"\"\"\n",
    "    rnn.eval()\n",
    "    \n",
    "    # create a sequence (batch_size=1) with the prime_id\n",
    "    current_seq = np.full((1, sequence_length), pad_value)\n",
    "    current_seq[-1][-1] = prime_id\n",
    "    predicted = [int_to_vocab[prime_id]]\n",
    "    \n",
    "    for _ in range(predict_len):\n",
    "        if train_on_gpu:\n",
    "            current_seq = torch.LongTensor(current_seq).cuda()\n",
    "        else:\n",
    "            current_seq = torch.LongTensor(current_seq)\n",
    "        \n",
    "        # initialize the hidden state\n",
    "        hidden = rnn.init_hidden(current_seq.size(0))\n",
    "        \n",
    "        # get the output of the rnn\n",
    "        output, _ = rnn(current_seq, hidden)\n",
    "        \n",
    "        # get the next word probabilities\n",
    "        p = F.softmax(output, dim=1).data\n",
    "        if train_on_gpu:\n",
    "            p = p.cpu() # move to cpu\n",
    "         \n",
    "        # use top_k sampling to get the index of the next word\n",
    "        top_k = 5\n",
    "        p, top_i = p.topk(top_k)\n",
    "        top_i = top_i.numpy().squeeze()\n",
    "        \n",
    "        # select the likely next word index with some element of randomness\n",
    "        p = p.numpy().squeeze()\n",
    "        word_i = np.random.choice(top_i, p=p/p.sum())\n",
    "        \n",
    "        # retrieve that word from the dictionary\n",
    "        word = int_to_vocab[word_i]\n",
    "        predicted.append(word)     \n",
    "        \n",
    "        # the generated word becomes the next \"current sequence\" and the cycle can continue\n",
    "        current_seq = np.roll(current_seq, -1, 1)\n",
    "        current_seq[-1][-1] = word_i\n",
    "    \n",
    "    gen_sentences = ' '.join(predicted)\n",
    "    \n",
    "    # Replace punctuation tokens\n",
    "    for key, token in token_dict.items():\n",
    "        ending = ' ' if key in ['\\n', '(', '\"'] else ''\n",
    "        gen_sentences = gen_sentences.replace(' ' + token.lower(), key)\n",
    "    gen_sentences = gen_sentences.replace('\\n ', '\\n')\n",
    "    gen_sentences = gen_sentences.replace('( ', '(')\n",
    "    \n",
    "    # return all the sentences\n",
    "    return gen_sentences"
   ]
  },
  {
   "cell_type": "markdown",
   "metadata": {},
   "source": [
    "### Generate a New Script\n",
    "It's time to generate the text. Set `gen_length` to the length of TV script you want to generate and set `prime_word` to one of the following to start the prediction:\n",
    "- \"jerry\"\n",
    "- \"elaine\"\n",
    "- \"george\"\n",
    "- \"kramer\"\n",
    "\n",
    "You can set the prime word to _any word_ in our dictionary, but it's best to start with a name for generating a TV script. (You can also start with any other names you find in the original text file!)"
   ]
  },
  {
   "cell_type": "code",
   "execution_count": 32,
   "metadata": {},
   "outputs": [
    {
     "name": "stderr",
     "output_type": "stream",
     "text": [
      "/opt/conda/lib/python3.6/site-packages/ipykernel_launcher.py:61: UserWarning: RNN module weights are not part of single contiguous chunk of memory. This means they need to be compacted at every call, possibly greatly increasing memory usage. To compact weights again call flatten_parameters().\n"
     ]
    },
    {
     "name": "stdout",
     "output_type": "stream",
     "text": [
      "jerry:(jerry looks at the table)\n",
      "\n",
      "george:(interrupting) i know.\n",
      "\n",
      "jerry: i can't.\n",
      "\n",
      "kramer:(pointing at the counter) hey, jerry, this is jerry.\n",
      "\n",
      "kramer:(to jerry) i don't know.\n",
      "\n",
      "jerry: oh, yeah.\n",
      "\n",
      "jerry: oh, hi! i got a little taste in the middle of my life. i mean, i'm going to have the same one.\n",
      "\n",
      "elaine: yeah, you know?\n",
      "\n",
      "elaine:(to the phone) oh, you know, you can have to do this, we have the same one.\n",
      "\n",
      "elaine: oh, my god.\n",
      "\n",
      "jerry: hey. you know, i don't want a chance.\n",
      "\n",
      "elaine: what?\n",
      "\n",
      "elaine: i think it's not the same one. you know, you were a little concerned......... i was a little bit...\n",
      "\n",
      "george: yeah..(to george) hey, i got a good news.\n",
      "\n",
      "jerry: oh, you know, i don't know.\n",
      "\n",
      "george: i know i was just curious. i know, i know, i would have to get the bathroom.\n",
      "\n",
      "elaine:(to george) oh, yeah! i know that is so much.(they both laugh.)\n",
      "\n",
      "elaine:(to jerry) hey jerry?\n",
      "\n",
      "jerry:(pointing at his) i don't know.\n",
      "\n",
      "elaine: i know.\n",
      "\n",
      "george: oh, i don't know how you do.(he takes her hand)\n",
      "\n",
      "jerry:(still shaking) i can't go.\n",
      "\n",
      "george: what?\n",
      "\n",
      "george:(to jerry) what is this?\n",
      "\n",
      "kramer: well, it's not my fault, but i don't think so, and i have to be a bit of my.\n",
      "\n",
      "jerry: i can't believe it. i don't want it.\n",
      "\n",
      "jerry:(looking at the table) you know what i said? you know, i think i can be with the specials\n"
     ]
    }
   ],
   "source": [
    "# run the cell multiple times to get different results!\n",
    "gen_length = 400 # modify the length to your preference\n",
    "prime_word = 'jerry' # name for starting the script\n",
    "\n",
    "pad_word = helper.SPECIAL_WORDS['PADDING']\n",
    "generated_script = generate(trained_rnn, vocab_to_int[prime_word + ':'], int_to_vocab, token_dict, vocab_to_int[pad_word], gen_length)\n",
    "print(generated_script)"
   ]
  },
  {
   "cell_type": "markdown",
   "metadata": {},
   "source": [
    "#### Save your favorite scripts\n",
    "\n",
    "Once you have a script that you like (or find interesting), save it to a text file!"
   ]
  },
  {
   "cell_type": "code",
   "execution_count": null,
   "metadata": {},
   "outputs": [],
   "source": [
    "# save script to a text file\n",
    "f =  open(\"generated_script_1.txt\",\"w\")\n",
    "f.write(generated_script)\n",
    "f.close()"
   ]
  },
  {
   "cell_type": "markdown",
   "metadata": {},
   "source": [
    "### The TV Script is Not Perfect\n",
    "It's ok if the TV script doesn't make perfect sense. It should look like alternating lines of dialogue, here is one such example of a few generated lines.\n",
    "\n",
    "### Example generated script\n",
    "\n",
    ">jerry: what about me?\n",
    ">\n",
    ">jerry: i don't have to wait.\n",
    ">\n",
    ">kramer:(to the sales table)\n",
    ">\n",
    ">elaine:(to jerry) hey, look at this, i'm a good doctor.\n",
    ">\n",
    ">newman:(to elaine) you think i have no idea of this...\n",
    ">\n",
    ">elaine: oh, you better take the phone, and he was a little nervous.\n",
    ">\n",
    ">kramer:(to the phone) hey, hey, jerry, i don't want to be a little bit.(to kramer and jerry) you can't.\n",
    ">\n",
    ">jerry: oh, yeah. i don't even know, i know.\n",
    ">\n",
    ">jerry:(to the phone) oh, i know.\n",
    ">\n",
    ">kramer:(laughing) you know...(to jerry) you don't know.\n",
    "\n",
    "You can see that there are multiple characters that say (somewhat) complete sentences, but it doesn't have to be perfect! It takes quite a while to get good results, and often, you'll have to use a smaller vocabulary (and discard uncommon words), or get more data.  The Seinfeld dataset is about 3.4 MB, which is big enough for our purposes; for script generation you'll want more than 1 MB of text, generally."
   ]
  },
  {
   "cell_type": "code",
   "execution_count": null,
   "metadata": {},
   "outputs": [],
   "source": []
  }
 ],
 "metadata": {
  "kernelspec": {
   "display_name": "Python 3",
   "language": "python",
   "name": "python3"
  },
  "language_info": {
   "codemirror_mode": {
    "name": "ipython",
    "version": 3
   },
   "file_extension": ".py",
   "mimetype": "text/x-python",
   "name": "python",
   "nbconvert_exporter": "python",
   "pygments_lexer": "ipython3",
   "version": "3.6.13"
  },
  "widgets": {
   "state": {},
   "version": "1.1.2"
  }
 },
 "nbformat": 4,
 "nbformat_minor": 1
}
